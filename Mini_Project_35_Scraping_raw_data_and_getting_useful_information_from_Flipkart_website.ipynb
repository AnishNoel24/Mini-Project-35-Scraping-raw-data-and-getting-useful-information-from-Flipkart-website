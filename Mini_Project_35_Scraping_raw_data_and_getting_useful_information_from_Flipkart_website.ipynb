{
  "nbformat": 4,
  "nbformat_minor": 0,
  "metadata": {
    "colab": {
      "provenance": [],
      "include_colab_link": true
    },
    "kernelspec": {
      "name": "python3",
      "display_name": "Python 3"
    },
    "language_info": {
      "name": "python"
    }
  },
  "cells": [
    {
      "cell_type": "markdown",
      "metadata": {
        "id": "view-in-github",
        "colab_type": "text"
      },
      "source": [
        "<a href=\"https://colab.research.google.com/github/AnishNoel24/Mini-Project-35-Scraping-raw-data-and-getting-useful-information-from-Flipkart-website/blob/main/Mini_Project_35_Scraping_raw_data_and_getting_useful_information_from_Flipkart_website.ipynb\" target=\"_parent\"><img src=\"https://colab.research.google.com/assets/colab-badge.svg\" alt=\"Open In Colab\"/></a>"
      ]
    },
    {
      "cell_type": "markdown",
      "source": [
        "#1\n",
        "###Install Beautiful Soup Library"
      ],
      "metadata": {
        "id": "M0_hO4vZ32Zf"
      }
    },
    {
      "cell_type": "code",
      "execution_count": 1,
      "metadata": {
        "id": "1GikjUKlNRpN",
        "colab": {
          "base_uri": "https://localhost:8080/"
        },
        "outputId": "7a2dc56f-497c-4b67-8dea-1e4c64a1f00c"
      },
      "outputs": [
        {
          "output_type": "stream",
          "name": "stdout",
          "text": [
            "Requirement already satisfied: requests in /usr/local/lib/python3.10/dist-packages (2.27.1)\n",
            "Requirement already satisfied: beautifulsoup4 in /usr/local/lib/python3.10/dist-packages (4.11.2)\n",
            "Requirement already satisfied: urllib3<1.27,>=1.21.1 in /usr/local/lib/python3.10/dist-packages (from requests) (1.26.16)\n",
            "Requirement already satisfied: certifi>=2017.4.17 in /usr/local/lib/python3.10/dist-packages (from requests) (2023.5.7)\n",
            "Requirement already satisfied: charset-normalizer~=2.0.0 in /usr/local/lib/python3.10/dist-packages (from requests) (2.0.12)\n",
            "Requirement already satisfied: idna<4,>=2.5 in /usr/local/lib/python3.10/dist-packages (from requests) (3.4)\n",
            "Requirement already satisfied: soupsieve>1.2 in /usr/local/lib/python3.10/dist-packages (from beautifulsoup4) (2.4.1)\n"
          ]
        }
      ],
      "source": [
        "# Install libraries if required\n",
        "\n",
        "!pip install requests beautifulsoup4"
      ]
    },
    {
      "cell_type": "markdown",
      "source": [
        "#1.1\n",
        "###Import required libraries and read the URL"
      ],
      "metadata": {
        "id": "jAcShb8not1L"
      }
    },
    {
      "cell_type": "code",
      "source": [
        "import requests\n",
        "from bs4 import BeautifulSoup\n",
        "url = 'https://www.flipkart.com/search?q=mobile+phone+5g'"
      ],
      "metadata": {
        "id": "XxTwMnAfpD7r"
      },
      "execution_count": 2,
      "outputs": []
    },
    {
      "cell_type": "code",
      "source": [
        "# Make a request to the website\n",
        "response = requests.get(url)\n",
        "\n",
        "# Create a BeautifulSoup object\n",
        "soup = BeautifulSoup(response.text, 'html.parser')\n"
      ],
      "metadata": {
        "id": "yxkeHyOV2PiT"
      },
      "execution_count": 3,
      "outputs": []
    },
    {
      "cell_type": "markdown",
      "source": [
        "#1.2\n",
        "Print all scraped data"
      ],
      "metadata": {
        "id": "vnpetEP1N6zj"
      }
    },
    {
      "cell_type": "code",
      "source": [
        "text = soup.get_text()\n",
        "text"
      ],
      "metadata": {
        "colab": {
          "base_uri": "https://localhost:8080/",
          "height": 191
        },
        "id": "ak1LNiuW3hzQ",
        "outputId": "b539437d-dfb3-40a9-a3fb-469bc87bea6d"
      },
      "execution_count": 4,
      "outputs": [
        {
          "output_type": "execute_result",
          "data": {
            "text/plain": [
              "' Mobile Phone 5g- Buy Products Online at Best Price in India - All Categories | Flipkart.com     Explore PlusLoginBecome a Seller More CartFiltersCATEGORIESMobiles & AccessoriesMobilesPrice......Min₹10000₹15000₹20000₹30000to₹10000₹15000₹20000₹30000₹30000+BrandSAMSUNGAPPLErealmePOCOInfinixOPPO145 MORE?Customer Ratings4★ & above3★ & aboveGST Invoice AvailableRAM4 GB3 GB2 GB1GB and Below8 GB and Above6 GBInternal StorageBattery CapacityScreen SizePrimary CameraSecondary CameraProcessor BrandSpecialityResolution TypeOperating SystemNetwork TypeSim TypeOffersBuy More, Save MoreNo Cost EMISpecial PriceFeaturesTypeNumber of CoresAvailabilityDiscount50% or more40% or more30% or more20% or more10% or moreOperating System Version NameClock SpeedNeed help?Help me decideHomeMobiles & AccessoriesMobilesShowing 1 – 24 of 4,977 results for \"mobile phone 5g\"Sort ByRelevancePopularityPrice -- Low to HighPrice -- High to LowNewest FirstAdd to ComparePOCO M4 5G (Cool Blue, 64 GB)4.283,612 Ratings\\xa0&\\xa05,850 Reviews4 GB RAM | 64 GB ROM | Expandable Upto 512 GB16.71 cm (6.58 inch) Full HD+ Display50MP + 2MP | 8MP Front Camera5000 mAh Lithium Ion Polymer BatteryMediatek Dimensity 700 Processor1 Year Warranty for Handset and 6 Months for Accessories₹10,999₹15,99931% offAdd to Comparevivo T2 5G (Velocity Wave, 128 GB)4.46,152 Ratings\\xa0&\\xa0421 Reviews8 GB RAM | 128 GB ROM16.21 cm (6.38 inch) Full HD+ Display64 MP (OIS) + 2MP | 16MP Front Camera4500 mAh BatterySnapdragon 695 Processor1 Year of Device & 6 Months for Inbox Accessories₹20,999₹25,99919% offFree delivery by TodaySaver DealUpto ₹18,850 Off on ExchangeAdd to ComparePOCO M4 5G (Yellow, 64 GB)4.283,612 Ratings\\xa0&\\xa05,850 Reviews4 GB RAM | 64 GB ROM | Expandable Upto 512 GB16.71 cm (6.58 inch) Full HD+ Display50MP + 2MP | 8MP Front Camera5000 mAh Lithium Ion Polymer BatteryMediatek Dimensity 700 Processor1 Year Warranty for Handset and 6 Months for Accessories₹10,999₹15,99931% offAdd to CompareAPPLE iPhone 13 (Starlight, 128 GB)4.72,32,295 Ratings\\xa0&\\xa011,885 Reviews128 GB ROM15.49 cm (6.1 inch) Super Retina XDR Display12MP + 12MP | 12MP Front CameraA15 Bionic Chip ProcessorBrand Warranty for 1 Year₹57,499₹69,90017% offAdd to ComparePOCO M4 5G (Power Black, 64 GB)4.283,612 Ratings\\xa0&\\xa05,850 Reviews4 GB RAM | 64 GB ROM | Expandable Upto 512 GB16.71 cm (6.58 inch) Full HD+ Display50MP + 2MP | 8MP Front Camera5000 mAh Lithium Ion Polymer BatteryMediatek Dimensity 700 Processor1 Year Warranty for Handset and 6 Months for Accessories₹10,999₹15,99931% offAdd to CompareAPPLE iPhone 13 (Midnight, 128 GB)4.72,32,295 Ratings\\xa0&\\xa011,885 Reviews128 GB ROM15.49 cm (6.1 inch) Super Retina XDR Display12MP + 12MP | 12MP Front CameraA15 Bionic Chip ProcessorBrand Warranty for 1 Year₹57,499₹69,90017% offAdd to CompareSAMSUNG Galaxy F14 5G (GOAT Green, 128 GB)4.220,833 Ratings\\xa0&\\xa01,643 Reviews6 GB RAM | 128 GB ROM | Expandable Upto 1 TB16.76 cm (6.6 inch) Full HD+ Display50MP + 2MP | 13MP Front Camera6000 mAh BatteryExynos 1330, Octa Core Processor1 Year Manufacturer Warranty for Device and 6 Months Manufacturer Warranty for In-Box Accessories₹13,990₹18,49024% offFree delivery by TodaySaver DealUpto ₹13,300 Off on ExchangeAdd to CompareAPPLE iPhone 13 (Pink, 128 GB)4.72,32,295 Ratings\\xa0&\\xa011,885 Reviews128 GB ROM15.49 cm (6.1 inch) Super Retina XDR Display12MP + 12MP | 12MP Front CameraA15 Bionic Chip ProcessorBrand Warranty for 1 Year₹57,499₹69,90017% offAdd to CompareSAMSUNG Galaxy F14 5G (OMG Black, 128 GB)4.220,833 Ratings\\xa0&\\xa01,643 Reviews6 GB RAM | 128 GB ROM | Expandable Upto 1 TB16.76 cm (6.6 inch) Full HD+ Display50MP + 2MP | 13MP Front Camera6000 mAh BatteryExynos 1330, Octa Core Processor1 Year Manufacturer Warranty for Device and 6 Months Manufacturer Warranty for In-Box Accessories₹13,990₹18,49024% offFree delivery by TodaySaver DealUpto ₹13,300 Off on ExchangeAdd to CompareInfinix Note 12 Pro 5G (Force Black, 128 GB)4.129,548 Ratings\\xa0&\\xa03,396 Reviews8 GB RAM | 128 GB ROM | Expandable Upto 2 TB17.02 cm (6.7 inch) Full HD+ AMOLED Display108MP + 2MP (Depth) + 2MP (Macro) | 16MP Front Camera5000 mAh Li-ion Polymer BatteryMediatek Dimensity 810 5G Processor1 Year on Handset and 6 Months on Accessories₹15,999₹24,99936% offFree delivery by TodayTop Discount on SaleUpto ₹15,450 Off on ExchangeAdd to ComparePOCO X5 Pro 5G (Horizon Blue, 256 GB)4.39,639 Ratings\\xa0&\\xa0984 Reviews8 GB RAM | 256 GB ROM16.94 cm (6.67 inch) Full HD+ Display108MP + 8MP + 2MP | 16MP Front Camera5000 mAh BatteryQualcomm Snapdragon 778G Processor1 Year Manufacturer Warranty for Phone and 6 Months Warranty for in the Box Accessories₹22,999₹28,99920% offAdd to CompareGoogle Pixel 6a (Charcoal, 128 GB)4.350,708 Ratings\\xa0&\\xa06,053 Reviews6 GB RAM | 128 GB ROM15.6 cm (6.14 inch) Full HD+ Display12.2MP + 12MP | 8MP Front Camera4410 mAh BatteryGoogle Tensor Processor1 Year Brand Warranty₹25,999₹43,99940% offFree delivery by TodayTop Discount on SaleUpto ₹25,000 Off on ExchangeAdd to CompareGoogle Pixel 6a (Chalk, 128 GB)4.350,708 Ratings\\xa0&\\xa06,053 Reviews6 GB RAM | 128 GB ROM15.6 cm (6.14 inch) Full HD+ Display12.2MP + 12MP | 8MP Front Camera4410 mAh BatteryGoogle Tensor Processor1 Year Brand Warranty₹25,999₹43,99940% offFree delivery by TodayTop Discount on SaleUpto ₹25,000 Off on ExchangeAdd to CompareAPPLE iPhone 13 (Blue, 128 GB)4.72,32,295 Ratings\\xa0&\\xa011,885 Reviews128 GB ROM15.49 cm (6.1 inch) Super Retina XDR Display12MP + 12MP | 12MP Front CameraA15 Bionic Chip ProcessorBrand Warranty for 1 Year₹57,499₹69,90017% offAdd to CompareInfinix Note 12 Pro 5G (Snowfall, 128 GB)4.129,548 Ratings\\xa0&\\xa03,396 Reviews8 GB RAM | 128 GB ROM | Expandable Upto 2 TB17.02 cm (6.7 inch) Full HD+ AMOLED Display108MP + 2MP (Depth) + 2MP (Macro) | 16MP Front Camera5000 mAh Li-ion Polymer BatteryMediatek Dimensity 810 5G Processor1 Year on Handset and 6 Months on Accessories₹15,999₹24,99936% offFree delivery by TodayTop Discount on SaleUpto ₹15,450 Off on ExchangeAdd to ComparePOCO X5 5G (Wildcat Blue, 128 GB)4.110,818 Ratings\\xa0&\\xa0821 Reviews6 GB RAM | 128 GB ROM | Expandable Upto 1 TB16.94 cm (6.67 inch) Full HD+ Display48MP + 8MP + 2MP | 13MP Front Camera5000 mAh BatteryQualcomm Snapdragon 695 Processor1 Year Manufacturer Warranty for Phone and 6 Months Warranty for In the Box Accessories₹14,999₹20,99928% offAdd to ComparePOCO F4 5G (Night Black, 256 GB)12 GB RAM | 256 GB ROM16.94 cm (6.67 inch) Full HD+ Display64MP + 8MP + 2MP | 20MP Front Camera4500 mAh Lithium-ion Polymer BatteryQualcomm Snapdragon 870 Processor2 Years Brand Warranty₹21,999₹39,99945% offFree delivery by TodayTop Discount on SaleUpto ₹21,100 Off on ExchangeAdd to Comparerealme 10 Pro 5G (Dark Matter, 128 GB)4.322,542 Ratings\\xa0&\\xa01,643 Reviews8 GB RAM | 128 GB ROM | Expandable Upto 1 TB17.07 cm (6.72 inch) Full HD+ Display108MP + 2MP | 16MP Front Camera5000 mAh BatteryQualcomm Snapdragon 695 5G Processor1 Year Manufacturer Warranty for Phone and 6 Months Warranty for In-Box Accessories₹19,999₹22,99913% offAdd to Comparerealme 10 Pro 5G (Hyperspace, 128 GB)4.322,542 Ratings\\xa0&\\xa01,643 Reviews8 GB RAM | 128 GB ROM | Expandable Upto 1 TB17.07 cm (6.72 inch) Full HD+ Display108MP + 2MP | 16MP Front Camera5000 mAh BatteryQualcomm Snapdragon 695 5G Processor1 Year Manufacturer Warranty for Phone and 6 Months Warranty for In-Box Accessories₹19,999₹22,99913% offFree delivery by TodayUpto ₹19,450 Off on ExchangeBank OfferAdd to Comparerealme 10 Pro 5G (Nebula Blue, 128 GB)4.329,945 Ratings\\xa0&\\xa02,178 Reviews6 GB RAM | 128 GB ROM | Expandable Upto 1 TB17.07 cm (6.72 inch) Full HD+ Display108MP + 2MP | 16MP Front Camera5000 mAh BatteryQualcomm Snapdragon 695 5G Processor1 Year Manufacturer Warranty for Phone and 6 Months Warranty for In-Box Accessories₹18,999₹20,9999% offFree delivery by TodayUpto ₹17,500 Off on ExchangeBank OfferAdd to Comparerealme 10 Pro 5G (Dark Matter, 128 GB)4.329,945 Ratings\\xa0&\\xa02,178 Reviews6 GB RAM | 128 GB ROM | Expandable Upto 1 TB17.07 cm (6.72 inch) Full HD+ Display108MP + 2MP | 16MP Front Camera5000 mAh BatteryQualcomm Snapdragon 695 5G Processor1 Year Manufacturer Warranty for Phone and 6 Months Warranty for In-Box Accessories₹18,999₹20,9999% offFree delivery by TodayUpto ₹17,500 Off on ExchangeBank OfferAdd to Comparerealme 10 Pro 5G (Nebula Blue, 128 GB)4.322,542 Ratings\\xa0&\\xa01,643 Reviews8 GB RAM | 128 GB ROM | Expandable Upto 1 TB17.07 cm (6.72 inch) Full HD+ Display108MP + 2MP | 16MP Front Camera5000 mAh BatteryQualcomm Snapdragon 695 5G Processor1 Year Manufacturer Warranty for Phone and 6 Months Warranty for In-Box Accessories₹19,999₹22,99913% offFree delivery by TodayUpto ₹19,450 Off on ExchangeBank OfferAdd to ComparePOCO X5 Pro 5G (Astral Black, 256 GB)4.39,639 Ratings\\xa0&\\xa0984 Reviews8 GB RAM | 256 GB ROM16.94 cm (6.67 inch) Full HD+ Display108MP + 8MP + 2MP | 16MP Front Camera5000 mAh BatteryQualcomm Snapdragon 778G Processor1 Year Manufacturer Warranty for Phone and 6 Months Warranty for in the Box Accessories₹22,999₹28,99920% offAdd to CompareInfinix HOT 20 5G (Space Blue, 64 GB)4.213,220 Ratings\\xa0&\\xa01,020 Reviews4 GB RAM | 64 GB ROM | Expandable Upto 1 TB16.76 cm (6.6 inch) Full HD+ Display50MP + AI Lens | 8MP Front Camera5000 mAh Li-ion Polymer BatteryDimensity 810 Processor1 Year on Handset and 6 Months on Accessories₹11,499₹17,99936% offFree delivery by TodayTop Discount on SaleUpto ₹10,900 Off on ExchangePage 1 of 20812345678910NextDid you find what you were looking for?YesNoReviews for Popular Mobiles1. SAMSUNG Galaxy F14 5G (OMG ...4.220,833 Ratings&1,643 Reviews₹13,99024% off6 GB RAM | 128 GB ROM | Expandable Upto 1 TB16.76 cm (6.6 inch) Full HD+ Display50MP + 2MP | 13MP Front CameraMost Helpful Review5WonderfulExcellent model by samsungRead full reviewBINOD KUMARCertified Buyer2 months agoRecent Review4Value-for-moneyMobile supper...but NO charger................that is big problemRead full reviewFlipkart CustomerCertified Buyer3 days ago2. vivo T2 5G (Velocity Wave, ...4.46,152 Ratings&421 Reviews₹20,99919% off8 GB RAM | 128 GB ROM16.21 cm (6.38 inch) Full HD+ Display64 MP (OIS) + 2MP | 16MP Front CameraMost Helpful Review5WonderfulMobile style and design okBest camera on this price.Read full reviewSubha  DasCertified Buyer2 months agoRecent Review5AwesomeIt good for smoothly handling...Read full reviewT Raj TelagatjotiCertified Buyer4 days ago3. Infinix Note 12 Pro 5G (For...4.129,548 Ratings&3,396 Reviews₹15,99936% off8 GB RAM | 128 GB ROM | Expandable Upto 2 TB17.02 cm (6.7 inch) Full HD+ AMOLED Display108MP + 2MP (Depth) + 2MP (Macro) | 16MP Front CameraMost Helpful Review5Simply awesomeAll fichuer setting very goodVery good CameraRead full reviewVINOD  AHIRE Certified Buyer9 months agoRecent Review1UnsatisfactoryWorst Display and Camera Please Dont buyRead full reviewVikrant ShahiCertified Buyer3 days ago4. realme 10 Pro 5G (Nebula Bl...4.329,945 Ratings&2,178 Reviews₹18,9999% off6 GB RAM | 128 GB ROM | Expandable Upto 1 TB17.07 cm (6.72 inch) Full HD+ Display108MP + 2MP | 16MP Front CameraMost Helpful Review5Just wow!I am writing this review after using of 25daysThis is a totally awesome device in this price range 😎Read full reviewFlipkart CustomerCertified Buyer5 months agoRecent Review5Worth every pennyBest mobile and price in highRead full reviewB Mahantesh MahiCertified BuyerToday5. Google Pixel 6a (Charcoal, ...4.350,708 Ratings&6,053 Reviews₹25,99940% off6 GB RAM | 128 GB ROM15.6 cm (6.14 inch) Full HD+ Display12.2MP + 12MP | 8MP Front CameraMost Helpful Review5Perfect product!Great cameras with good value for money product , no nonsense phoneRead full reviewKarthikeyanCertified Buyer11 months agoRecent Review5Fabulous!I m google fan so like it very much  back camera very good ,front average, performance good , compact phoneRead full reviewM.THILEEP KUMARCertified Buyer3 days agoABOUTContact UsAbout UsCareersFlipkart StoriesPressFlipkart WholesaleCorporate InformationHELPPaymentsShippingCancellation & ReturnsFAQReport InfringementCONSUMER POLICYReturn PolicyTerms Of UseSecurityPrivacySitemapGrievance RedressalEPR ComplianceSOCIALFacebookTwitterYouTubeMail Us:Flipkart Internet Private Limited, \\n Buildings Alyssa, Begonia & \\n Clove Embassy Tech Village, \\n Outer Ring Road, Devarabeesanahalli Village, \\n Bengaluru, 560103, \\n Karnataka, India\\nRegistered Office Address:Flipkart Internet Private Limited, \\n Buildings Alyssa, Begonia & \\n Clove Embassy Tech Village, \\n Outer Ring Road, Devarabeesanahalli Village, \\n Bengaluru, 560103, \\n Karnataka, India \\n CIN : U51109KA2012PTC066107 \\n Telephone: 044-45614700\\nBecome a SellerAdvertiseGift CardsHelp Center© 2007-2023 Flipkart.comBack to top   \\n \\n\\n  '"
            ],
            "application/vnd.google.colaboratory.intrinsic+json": {
              "type": "string"
            }
          },
          "metadata": {},
          "execution_count": 4
        }
      ]
    },
    {
      "cell_type": "markdown",
      "source": [
        "#1.2b\n",
        "###Manually search same url in your browser and find a device in the scraped text.\n",
        "\n",
        "Use Command+F (MAC) or Ctrl+F (Windows)\n",
        "\n",
        "And type 1st device name that you find on flipkart url.\n",
        "\n",
        "Search in the above scraped data."
      ],
      "metadata": {
        "id": "Ung469AlOI0g"
      }
    },
    {
      "cell_type": "markdown",
      "source": [
        "#1.3\n",
        "##We will use very basic NLP techniques to filter out useful information from raw data."
      ],
      "metadata": {
        "id": "RhWYDIXOPWz8"
      }
    },
    {
      "cell_type": "markdown",
      "source": [
        "#1.3a - Single Device Name\n",
        "Give a start word and a end word.\n",
        "\n",
        "Find that start and end words in the above text.\n",
        "\n",
        "Filter in data written between start and end words.\n"
      ],
      "metadata": {
        "id": "bmrEDwD5P5dI"
      }
    },
    {
      "cell_type": "code",
      "source": [
        "start_word = \"Add to Compare\"\n",
        "end_word = \"(\"\n",
        "start_index = text.find(start_word)\n",
        "end_index = text.find(end_word, start_index + len(start_word))\n",
        "name = ''\n",
        "if start_index != -1 and end_index != -1:\n",
        "    name = text[start_index + len(start_word):end_index].strip()\n",
        "\n",
        "print(name)\n"
      ],
      "metadata": {
        "colab": {
          "base_uri": "https://localhost:8080/"
        },
        "id": "MvyWgzIs33fw",
        "outputId": "be151132-be38-4deb-b531-a8ba31a71237"
      },
      "execution_count": 5,
      "outputs": [
        {
          "output_type": "stream",
          "name": "stdout",
          "text": [
            "POCO M4 5G\n"
          ]
        }
      ]
    },
    {
      "cell_type": "markdown",
      "source": [
        "#1.3b - Single Device RAM and ROM"
      ],
      "metadata": {
        "id": "HYV1yHM6RIoD"
      }
    },
    {
      "cell_type": "code",
      "source": [
        "start_word = \"Reviews\"\n",
        "end_word = \"ROM\"\n",
        "start_index = text.find(start_word)\n",
        "end_index = text.find(end_word, start_index + len(start_word))\n",
        "RAM_ROM = ''\n",
        "if start_index != -1 and end_index != -1:\n",
        "    RAM_ROM = text[start_index + len(start_word):end_index].strip()\n",
        "\n",
        "print(RAM_ROM)\n"
      ],
      "metadata": {
        "colab": {
          "base_uri": "https://localhost:8080/"
        },
        "id": "SaRk7ZQ965QB",
        "outputId": "68755627-ec3f-47c9-b6c0-548aceb84115"
      },
      "execution_count": 6,
      "outputs": [
        {
          "output_type": "stream",
          "name": "stdout",
          "text": [
            "4 GB RAM | 64 GB\n"
          ]
        }
      ]
    },
    {
      "cell_type": "markdown",
      "source": [
        "#1.3c - Single Device Rating and Sold"
      ],
      "metadata": {
        "id": "BzX6xfsERTzB"
      }
    },
    {
      "cell_type": "code",
      "source": [
        "start_word = \"GB)\"\n",
        "end_word = \"Ratings\"\n",
        "start_index = text.find(start_word)\n",
        "end_index = text.find(end_word, start_index + len(start_word))\n",
        "Rating_Sold = ''\n",
        "if start_index != -1 and end_index != -1:\n",
        "    Rating_Sold = text[start_index + len(start_word):end_index].strip()\n",
        "\n",
        "print(Rating_Sold)\n"
      ],
      "metadata": {
        "colab": {
          "base_uri": "https://localhost:8080/"
        },
        "id": "LgVgY0RO7eHp",
        "outputId": "c82f3f52-71c8-435e-dc47-e08880c69e12"
      },
      "execution_count": 7,
      "outputs": [
        {
          "output_type": "stream",
          "name": "stdout",
          "text": [
            "4.283,612\n"
          ]
        }
      ]
    },
    {
      "cell_type": "markdown",
      "source": [
        "#1.4 Mobile Names\n",
        "\n",
        "Add a for loop to filter all mobile names."
      ],
      "metadata": {
        "id": "PcnncjKhRi0k"
      }
    },
    {
      "cell_type": "code",
      "source": [
        "import re\n",
        "\n",
        "start_word = \"Add to Compare\"\n",
        "end_word = \"(\"\n",
        "\n",
        "escaped_start_word = re.escape(start_word)\n",
        "escaped_end_word = re.escape(end_word)\n",
        "\n",
        "pattern = f\"{escaped_start_word}(.*?){escaped_end_word}\"\n",
        "matches = re.finditer(pattern, text)\n",
        "name = []\n",
        "\n",
        "for match in matches:\n",
        "    project = match.group(1).strip()\n",
        "    name.append(project)\n",
        "\n",
        "print(name)\n"
      ],
      "metadata": {
        "colab": {
          "base_uri": "https://localhost:8080/"
        },
        "id": "oDn4jehd5iSz",
        "outputId": "02ef97ad-a57e-499f-b8f3-041e5a7f3022"
      },
      "execution_count": 8,
      "outputs": [
        {
          "output_type": "stream",
          "name": "stdout",
          "text": [
            "['POCO M4 5G', 'vivo T2 5G', 'POCO M4 5G', 'APPLE iPhone 13', 'POCO M4 5G', 'APPLE iPhone 13', 'SAMSUNG Galaxy F14 5G', 'APPLE iPhone 13', 'SAMSUNG Galaxy F14 5G', 'Infinix Note 12 Pro 5G', 'POCO X5 Pro 5G', 'Google Pixel 6a', 'Google Pixel 6a', 'APPLE iPhone 13', 'Infinix Note 12 Pro 5G', 'POCO X5 5G', 'POCO F4 5G', 'realme 10 Pro 5G', 'realme 10 Pro 5G', 'realme 10 Pro 5G', 'realme 10 Pro 5G', 'realme 10 Pro 5G', 'POCO X5 Pro 5G', 'Infinix HOT 20 5G']\n"
          ]
        }
      ]
    },
    {
      "cell_type": "code",
      "source": [
        "name"
      ],
      "metadata": {
        "colab": {
          "base_uri": "https://localhost:8080/"
        },
        "id": "wB5EdW4l6cUQ",
        "outputId": "0b7e89e6-03e7-4320-813d-caf3ce1e4a71"
      },
      "execution_count": 9,
      "outputs": [
        {
          "output_type": "execute_result",
          "data": {
            "text/plain": [
              "['POCO M4 5G',\n",
              " 'vivo T2 5G',\n",
              " 'POCO M4 5G',\n",
              " 'APPLE iPhone 13',\n",
              " 'POCO M4 5G',\n",
              " 'APPLE iPhone 13',\n",
              " 'SAMSUNG Galaxy F14 5G',\n",
              " 'APPLE iPhone 13',\n",
              " 'SAMSUNG Galaxy F14 5G',\n",
              " 'Infinix Note 12 Pro 5G',\n",
              " 'POCO X5 Pro 5G',\n",
              " 'Google Pixel 6a',\n",
              " 'Google Pixel 6a',\n",
              " 'APPLE iPhone 13',\n",
              " 'Infinix Note 12 Pro 5G',\n",
              " 'POCO X5 5G',\n",
              " 'POCO F4 5G',\n",
              " 'realme 10 Pro 5G',\n",
              " 'realme 10 Pro 5G',\n",
              " 'realme 10 Pro 5G',\n",
              " 'realme 10 Pro 5G',\n",
              " 'realme 10 Pro 5G',\n",
              " 'POCO X5 Pro 5G',\n",
              " 'Infinix HOT 20 5G']"
            ]
          },
          "metadata": {},
          "execution_count": 9
        }
      ]
    },
    {
      "cell_type": "markdown",
      "source": [
        "#1.5 RAM and ROM"
      ],
      "metadata": {
        "id": "jjfjzLQER7BW"
      }
    },
    {
      "cell_type": "code",
      "source": [
        "import re\n",
        "\n",
        "start_word = \"Reviews\"\n",
        "end_word = \"ROM\"\n",
        "\n",
        "escaped_start_word = re.escape(start_word)\n",
        "escaped_end_word = re.escape(end_word)\n",
        "\n",
        "pattern = f\"{escaped_start_word}(.*?){escaped_end_word}\"\n",
        "matches = re.finditer(pattern, text)\n",
        "RAM_ROM = []\n",
        "\n",
        "for match in matches:\n",
        "    project = match.group(1).strip()\n",
        "    RAM_ROM.append(project)\n",
        "\n",
        "print(RAM_ROM)\n"
      ],
      "metadata": {
        "colab": {
          "base_uri": "https://localhost:8080/"
        },
        "id": "4zbakvHA8l2b",
        "outputId": "4b11ae7b-35dc-4b29-b525-fe7e84494796"
      },
      "execution_count": 10,
      "outputs": [
        {
          "output_type": "stream",
          "name": "stdout",
          "text": [
            "['4 GB RAM | 64 GB', '8 GB RAM | 128 GB', '4 GB RAM | 64 GB', '128 GB', '4 GB RAM | 64 GB', '128 GB', '6 GB RAM | 128 GB', '128 GB', '6 GB RAM | 128 GB', '8 GB RAM | 128 GB', '8 GB RAM | 256 GB', '6 GB RAM | 128 GB', '6 GB RAM | 128 GB', '128 GB', '8 GB RAM | 128 GB', '6 GB RAM | 128 GB', '8 GB RAM | 128 GB', '8 GB RAM | 128 GB', '6 GB RAM | 128 GB', '6 GB RAM | 128 GB', '8 GB RAM | 128 GB', '8 GB RAM | 256 GB', '4 GB RAM | 64 GB', 'for Popular Mobiles1. SAMSUNG Galaxy F14 5G (OMG ...4.220,833 Ratings&1,643 Reviews₹13,99024% off6 GB RAM | 128 GB', '₹20,99919% off8 GB RAM | 128 GB', '₹15,99936% off8 GB RAM | 128 GB', '₹18,9999% off6 GB RAM | 128 GB', '₹25,99940% off6 GB RAM | 128 GB']\n"
          ]
        }
      ]
    },
    {
      "cell_type": "code",
      "source": [
        "RAM_ROM"
      ],
      "metadata": {
        "colab": {
          "base_uri": "https://localhost:8080/"
        },
        "id": "9DDk3ZEc8rFz",
        "outputId": "a5df8572-c2dd-454d-b5bb-de0b5a24b4a1"
      },
      "execution_count": 11,
      "outputs": [
        {
          "output_type": "execute_result",
          "data": {
            "text/plain": [
              "['4 GB RAM | 64 GB',\n",
              " '8 GB RAM | 128 GB',\n",
              " '4 GB RAM | 64 GB',\n",
              " '128 GB',\n",
              " '4 GB RAM | 64 GB',\n",
              " '128 GB',\n",
              " '6 GB RAM | 128 GB',\n",
              " '128 GB',\n",
              " '6 GB RAM | 128 GB',\n",
              " '8 GB RAM | 128 GB',\n",
              " '8 GB RAM | 256 GB',\n",
              " '6 GB RAM | 128 GB',\n",
              " '6 GB RAM | 128 GB',\n",
              " '128 GB',\n",
              " '8 GB RAM | 128 GB',\n",
              " '6 GB RAM | 128 GB',\n",
              " '8 GB RAM | 128 GB',\n",
              " '8 GB RAM | 128 GB',\n",
              " '6 GB RAM | 128 GB',\n",
              " '6 GB RAM | 128 GB',\n",
              " '8 GB RAM | 128 GB',\n",
              " '8 GB RAM | 256 GB',\n",
              " '4 GB RAM | 64 GB',\n",
              " 'for Popular Mobiles1. SAMSUNG Galaxy F14 5G (OMG ...4.220,833 Ratings&1,643 Reviews₹13,99024% off6 GB RAM | 128 GB',\n",
              " '₹20,99919% off8 GB RAM | 128 GB',\n",
              " '₹15,99936% off8 GB RAM | 128 GB',\n",
              " '₹18,9999% off6 GB RAM | 128 GB',\n",
              " '₹25,99940% off6 GB RAM | 128 GB']"
            ]
          },
          "metadata": {},
          "execution_count": 11
        }
      ]
    },
    {
      "cell_type": "markdown",
      "source": [
        "#1.5a\n",
        "\n",
        "Sorting Data by removing last 5 elements."
      ],
      "metadata": {
        "id": "oOT4zQjfSFGV"
      }
    },
    {
      "cell_type": "code",
      "source": [
        "new_RAM_ROM = RAM_ROM[:-5]  # Remove the last 5 elements\n",
        "\n",
        "print(new_RAM_ROM)"
      ],
      "metadata": {
        "colab": {
          "base_uri": "https://localhost:8080/"
        },
        "id": "MefQ-4Wl-e_M",
        "outputId": "8859a5a8-78d8-4cc9-8d2a-5bd05ec4c14c"
      },
      "execution_count": 12,
      "outputs": [
        {
          "output_type": "stream",
          "name": "stdout",
          "text": [
            "['4 GB RAM | 64 GB', '8 GB RAM | 128 GB', '4 GB RAM | 64 GB', '128 GB', '4 GB RAM | 64 GB', '128 GB', '6 GB RAM | 128 GB', '128 GB', '6 GB RAM | 128 GB', '8 GB RAM | 128 GB', '8 GB RAM | 256 GB', '6 GB RAM | 128 GB', '6 GB RAM | 128 GB', '128 GB', '8 GB RAM | 128 GB', '6 GB RAM | 128 GB', '8 GB RAM | 128 GB', '8 GB RAM | 128 GB', '6 GB RAM | 128 GB', '6 GB RAM | 128 GB', '8 GB RAM | 128 GB', '8 GB RAM | 256 GB', '4 GB RAM | 64 GB']\n"
          ]
        }
      ]
    },
    {
      "cell_type": "code",
      "source": [
        "new_RAM_ROM"
      ],
      "metadata": {
        "colab": {
          "base_uri": "https://localhost:8080/"
        },
        "id": "6Ax3ONFI-jhG",
        "outputId": "0a15553c-caf2-4290-d10e-7c00a2d43b8e"
      },
      "execution_count": 13,
      "outputs": [
        {
          "output_type": "execute_result",
          "data": {
            "text/plain": [
              "['4 GB RAM | 64 GB',\n",
              " '8 GB RAM | 128 GB',\n",
              " '4 GB RAM | 64 GB',\n",
              " '128 GB',\n",
              " '4 GB RAM | 64 GB',\n",
              " '128 GB',\n",
              " '6 GB RAM | 128 GB',\n",
              " '128 GB',\n",
              " '6 GB RAM | 128 GB',\n",
              " '8 GB RAM | 128 GB',\n",
              " '8 GB RAM | 256 GB',\n",
              " '6 GB RAM | 128 GB',\n",
              " '6 GB RAM | 128 GB',\n",
              " '128 GB',\n",
              " '8 GB RAM | 128 GB',\n",
              " '6 GB RAM | 128 GB',\n",
              " '8 GB RAM | 128 GB',\n",
              " '8 GB RAM | 128 GB',\n",
              " '6 GB RAM | 128 GB',\n",
              " '6 GB RAM | 128 GB',\n",
              " '8 GB RAM | 128 GB',\n",
              " '8 GB RAM | 256 GB',\n",
              " '4 GB RAM | 64 GB']"
            ]
          },
          "metadata": {},
          "execution_count": 13
        }
      ]
    },
    {
      "cell_type": "markdown",
      "source": [
        "#1.5b\n",
        "Add **\"0 GB RAM | \"** in which RAM is not given."
      ],
      "metadata": {
        "id": "mtxYGhEPSQ0S"
      }
    },
    {
      "cell_type": "code",
      "source": [
        "modified_RAM_ROM = [element if '|' in element else '0 GB RAM | ' + element for element in new_RAM_ROM]\n",
        "\n",
        "print(modified_RAM_ROM)"
      ],
      "metadata": {
        "colab": {
          "base_uri": "https://localhost:8080/"
        },
        "id": "w1UzOzCHMEmW",
        "outputId": "6aa04f71-198f-4424-f770-6a5b0ca97ef5"
      },
      "execution_count": 14,
      "outputs": [
        {
          "output_type": "stream",
          "name": "stdout",
          "text": [
            "['4 GB RAM | 64 GB', '8 GB RAM | 128 GB', '4 GB RAM | 64 GB', '0 GB RAM | 128 GB', '4 GB RAM | 64 GB', '0 GB RAM | 128 GB', '6 GB RAM | 128 GB', '0 GB RAM | 128 GB', '6 GB RAM | 128 GB', '8 GB RAM | 128 GB', '8 GB RAM | 256 GB', '6 GB RAM | 128 GB', '6 GB RAM | 128 GB', '0 GB RAM | 128 GB', '8 GB RAM | 128 GB', '6 GB RAM | 128 GB', '8 GB RAM | 128 GB', '8 GB RAM | 128 GB', '6 GB RAM | 128 GB', '6 GB RAM | 128 GB', '8 GB RAM | 128 GB', '8 GB RAM | 256 GB', '4 GB RAM | 64 GB']\n"
          ]
        }
      ]
    },
    {
      "cell_type": "code",
      "source": [
        "modified_RAM_ROM"
      ],
      "metadata": {
        "colab": {
          "base_uri": "https://localhost:8080/"
        },
        "id": "rJ8pdydRMOqf",
        "outputId": "8030b458-ad06-498a-d279-21c6a4529050"
      },
      "execution_count": 15,
      "outputs": [
        {
          "output_type": "execute_result",
          "data": {
            "text/plain": [
              "['4 GB RAM | 64 GB',\n",
              " '8 GB RAM | 128 GB',\n",
              " '4 GB RAM | 64 GB',\n",
              " '0 GB RAM | 128 GB',\n",
              " '4 GB RAM | 64 GB',\n",
              " '0 GB RAM | 128 GB',\n",
              " '6 GB RAM | 128 GB',\n",
              " '0 GB RAM | 128 GB',\n",
              " '6 GB RAM | 128 GB',\n",
              " '8 GB RAM | 128 GB',\n",
              " '8 GB RAM | 256 GB',\n",
              " '6 GB RAM | 128 GB',\n",
              " '6 GB RAM | 128 GB',\n",
              " '0 GB RAM | 128 GB',\n",
              " '8 GB RAM | 128 GB',\n",
              " '6 GB RAM | 128 GB',\n",
              " '8 GB RAM | 128 GB',\n",
              " '8 GB RAM | 128 GB',\n",
              " '6 GB RAM | 128 GB',\n",
              " '6 GB RAM | 128 GB',\n",
              " '8 GB RAM | 128 GB',\n",
              " '8 GB RAM | 256 GB',\n",
              " '4 GB RAM | 64 GB']"
            ]
          },
          "metadata": {},
          "execution_count": 15
        }
      ]
    },
    {
      "cell_type": "markdown",
      "source": [
        "#1.5c\n",
        "Split RAM and ROM in 2 differnt sets."
      ],
      "metadata": {
        "id": "fSyrC_9SS_qS"
      }
    },
    {
      "cell_type": "code",
      "source": [
        "\n",
        "RAM = [element.split(\" | \")[0] for element in modified_RAM_ROM]\n",
        "ROM = [element.split(\" | \")[1] for element in modified_RAM_ROM]\n",
        "\n",
        "print(RAM)\n",
        "print(ROM)"
      ],
      "metadata": {
        "colab": {
          "base_uri": "https://localhost:8080/"
        },
        "id": "CHk-hbPYMqtu",
        "outputId": "72de8029-d107-487a-82fa-3e4b265b5dc9"
      },
      "execution_count": 16,
      "outputs": [
        {
          "output_type": "stream",
          "name": "stdout",
          "text": [
            "['4 GB RAM', '8 GB RAM', '4 GB RAM', '0 GB RAM', '4 GB RAM', '0 GB RAM', '6 GB RAM', '0 GB RAM', '6 GB RAM', '8 GB RAM', '8 GB RAM', '6 GB RAM', '6 GB RAM', '0 GB RAM', '8 GB RAM', '6 GB RAM', '8 GB RAM', '8 GB RAM', '6 GB RAM', '6 GB RAM', '8 GB RAM', '8 GB RAM', '4 GB RAM']\n",
            "['64 GB', '128 GB', '64 GB', '128 GB', '64 GB', '128 GB', '128 GB', '128 GB', '128 GB', '128 GB', '256 GB', '128 GB', '128 GB', '128 GB', '128 GB', '128 GB', '128 GB', '128 GB', '128 GB', '128 GB', '128 GB', '256 GB', '64 GB']\n"
          ]
        }
      ]
    },
    {
      "cell_type": "markdown",
      "source": [
        "#1.5d\n",
        "Keep only numerics in the set."
      ],
      "metadata": {
        "id": "x2zVzW8vTOLF"
      }
    },
    {
      "cell_type": "code",
      "source": [
        "RAM_digit = [re.sub(r'\\D', '', element) for element in RAM]\n",
        "\n",
        "print(RAM_digit)"
      ],
      "metadata": {
        "colab": {
          "base_uri": "https://localhost:8080/"
        },
        "id": "Q1nknykENIiK",
        "outputId": "d1e3b33a-5cd6-4dd6-b8f6-865cc6aa84f2"
      },
      "execution_count": 17,
      "outputs": [
        {
          "output_type": "stream",
          "name": "stdout",
          "text": [
            "['4', '8', '4', '0', '4', '0', '6', '0', '6', '8', '8', '6', '6', '0', '8', '6', '8', '8', '6', '6', '8', '8', '4']\n"
          ]
        }
      ]
    },
    {
      "cell_type": "code",
      "source": [
        "ROM_digit = [re.sub(r'\\D', '', element) for element in ROM]\n",
        "\n",
        "print(ROM_digit)"
      ],
      "metadata": {
        "colab": {
          "base_uri": "https://localhost:8080/"
        },
        "id": "VYegduq1NO8_",
        "outputId": "ea90a190-6a98-4d83-80e4-aa6025b352d5"
      },
      "execution_count": 18,
      "outputs": [
        {
          "output_type": "stream",
          "name": "stdout",
          "text": [
            "['64', '128', '64', '128', '64', '128', '128', '128', '128', '128', '256', '128', '128', '128', '128', '128', '128', '128', '128', '128', '128', '256', '64']\n"
          ]
        }
      ]
    },
    {
      "cell_type": "markdown",
      "source": [
        "#1.6 Rating and Sold Quantity"
      ],
      "metadata": {
        "id": "_6LD2621Tn2p"
      }
    },
    {
      "cell_type": "code",
      "source": [
        "import re\n",
        "\n",
        "start_word = \"GB)\"\n",
        "end_word = \"Rating\"\n",
        "\n",
        "escaped_start_word = re.escape(start_word)\n",
        "escaped_end_word = re.escape(end_word)\n",
        "\n",
        "pattern = f\"{escaped_start_word}(.*?){escaped_end_word}\"\n",
        "matches = re.finditer(pattern, text)\n",
        "Rating_and_Sold = []\n",
        "\n",
        "for match in matches:\n",
        "    project = match.group(1).strip()\n",
        "    Rating_and_Sold.append(project)\n",
        "\n",
        "print(Rating_and_Sold)\n"
      ],
      "metadata": {
        "colab": {
          "base_uri": "https://localhost:8080/"
        },
        "id": "XBeBjfvG6wmY",
        "outputId": "260b6d9b-289d-4627-ad62-b4fe3238cd41"
      },
      "execution_count": 19,
      "outputs": [
        {
          "output_type": "stream",
          "name": "stdout",
          "text": [
            "['4.283,612', '4.46,152', '4.283,612', '4.72,32,295', '4.283,612', '4.72,32,295', '4.220,833', '4.72,32,295', '4.220,833', '4.129,548', '4.39,639', '4.350,708', '4.350,708', '4.72,32,295', '4.129,548', '4.110,818', '12 GB RAM | 256 GB ROM16.94 cm (6.67 inch) Full HD+ Display64MP + 8MP + 2MP | 20MP Front Camera4500 mAh Lithium-ion Polymer BatteryQualcomm Snapdragon 870 Processor2 Years Brand Warranty₹21,999₹39,99945% offFree delivery by TodayTop Discount on SaleUpto ₹21,100 Off on ExchangeAdd to Comparerealme 10 Pro 5G (Dark Matter, 128 GB)4.322,542', '4.322,542', '4.329,945', '4.329,945', '4.322,542', '4.39,639', '4.213,220']\n"
          ]
        }
      ]
    },
    {
      "cell_type": "code",
      "source": [
        "Rating_and_Sold"
      ],
      "metadata": {
        "colab": {
          "base_uri": "https://localhost:8080/"
        },
        "id": "7hWs8Saf8MBX",
        "outputId": "56750aa1-b464-4c3d-db6f-30e51c8b7a0e"
      },
      "execution_count": 20,
      "outputs": [
        {
          "output_type": "execute_result",
          "data": {
            "text/plain": [
              "['4.283,612',\n",
              " '4.46,152',\n",
              " '4.283,612',\n",
              " '4.72,32,295',\n",
              " '4.283,612',\n",
              " '4.72,32,295',\n",
              " '4.220,833',\n",
              " '4.72,32,295',\n",
              " '4.220,833',\n",
              " '4.129,548',\n",
              " '4.39,639',\n",
              " '4.350,708',\n",
              " '4.350,708',\n",
              " '4.72,32,295',\n",
              " '4.129,548',\n",
              " '4.110,818',\n",
              " '12 GB RAM | 256 GB ROM16.94 cm (6.67 inch) Full HD+ Display64MP + 8MP + 2MP | 20MP Front Camera4500 mAh Lithium-ion Polymer BatteryQualcomm Snapdragon 870 Processor2 Years Brand Warranty₹21,999₹39,99945% offFree delivery by TodayTop Discount on SaleUpto ₹21,100 Off on ExchangeAdd to Comparerealme 10 Pro 5G (Dark Matter, 128 GB)4.322,542',\n",
              " '4.322,542',\n",
              " '4.329,945',\n",
              " '4.329,945',\n",
              " '4.322,542',\n",
              " '4.39,639',\n",
              " '4.213,220']"
            ]
          },
          "metadata": {},
          "execution_count": 20
        }
      ]
    },
    {
      "cell_type": "markdown",
      "source": [
        "#1.6a\n",
        "\n",
        "Spliting into 2 sets based on selecting first 3 elements."
      ],
      "metadata": {
        "id": "2-Ub_b01Tyho"
      }
    },
    {
      "cell_type": "code",
      "source": [
        "# Splitting into two sets\n",
        "Rating = [element[:3] for element in Rating_and_Sold]\n",
        "Sold = [element[3:] for element in Rating_and_Sold]\n",
        "\n",
        "print(Rating)\n",
        "print(Sold)"
      ],
      "metadata": {
        "colab": {
          "base_uri": "https://localhost:8080/"
        },
        "id": "2Mo60uT58N_w",
        "outputId": "ea01ef14-a54a-43b1-c4d9-0a6ec3bfac55"
      },
      "execution_count": 21,
      "outputs": [
        {
          "output_type": "stream",
          "name": "stdout",
          "text": [
            "['4.2', '4.4', '4.2', '4.7', '4.2', '4.7', '4.2', '4.7', '4.2', '4.1', '4.3', '4.3', '4.3', '4.7', '4.1', '4.1', '12 ', '4.3', '4.3', '4.3', '4.3', '4.3', '4.2']\n",
            "['83,612', '6,152', '83,612', '2,32,295', '83,612', '2,32,295', '20,833', '2,32,295', '20,833', '29,548', '9,639', '50,708', '50,708', '2,32,295', '29,548', '10,818', 'GB RAM | 256 GB ROM16.94 cm (6.67 inch) Full HD+ Display64MP + 8MP + 2MP | 20MP Front Camera4500 mAh Lithium-ion Polymer BatteryQualcomm Snapdragon 870 Processor2 Years Brand Warranty₹21,999₹39,99945% offFree delivery by TodayTop Discount on SaleUpto ₹21,100 Off on ExchangeAdd to Comparerealme 10 Pro 5G (Dark Matter, 128 GB)4.322,542', '22,542', '29,945', '29,945', '22,542', '9,639', '13,220']\n"
          ]
        }
      ]
    },
    {
      "cell_type": "code",
      "source": [
        "Rating"
      ],
      "metadata": {
        "colab": {
          "base_uri": "https://localhost:8080/"
        },
        "id": "6ATOWnOc_ZuT",
        "outputId": "2ee63453-7d21-45d7-8ca4-0e4a1e3b2fd0"
      },
      "execution_count": 22,
      "outputs": [
        {
          "output_type": "execute_result",
          "data": {
            "text/plain": [
              "['4.2',\n",
              " '4.4',\n",
              " '4.2',\n",
              " '4.7',\n",
              " '4.2',\n",
              " '4.7',\n",
              " '4.2',\n",
              " '4.7',\n",
              " '4.2',\n",
              " '4.1',\n",
              " '4.3',\n",
              " '4.3',\n",
              " '4.3',\n",
              " '4.7',\n",
              " '4.1',\n",
              " '4.1',\n",
              " '12 ',\n",
              " '4.3',\n",
              " '4.3',\n",
              " '4.3',\n",
              " '4.3',\n",
              " '4.3',\n",
              " '4.2']"
            ]
          },
          "metadata": {},
          "execution_count": 22
        }
      ]
    },
    {
      "cell_type": "code",
      "source": [
        "Sold"
      ],
      "metadata": {
        "colab": {
          "base_uri": "https://localhost:8080/"
        },
        "id": "eYAaatii_18a",
        "outputId": "88b2d1a6-09f9-4f63-b8e0-e13b3a2c7a7b"
      },
      "execution_count": 23,
      "outputs": [
        {
          "output_type": "execute_result",
          "data": {
            "text/plain": [
              "['83,612',\n",
              " '6,152',\n",
              " '83,612',\n",
              " '2,32,295',\n",
              " '83,612',\n",
              " '2,32,295',\n",
              " '20,833',\n",
              " '2,32,295',\n",
              " '20,833',\n",
              " '29,548',\n",
              " '9,639',\n",
              " '50,708',\n",
              " '50,708',\n",
              " '2,32,295',\n",
              " '29,548',\n",
              " '10,818',\n",
              " 'GB RAM | 256 GB ROM16.94 cm (6.67 inch) Full HD+ Display64MP + 8MP + 2MP | 20MP Front Camera4500 mAh Lithium-ion Polymer BatteryQualcomm Snapdragon 870 Processor2 Years Brand Warranty₹21,999₹39,99945% offFree delivery by TodayTop Discount on SaleUpto ₹21,100 Off on ExchangeAdd to Comparerealme 10 Pro 5G (Dark Matter, 128 GB)4.322,542',\n",
              " '22,542',\n",
              " '29,945',\n",
              " '29,945',\n",
              " '22,542',\n",
              " '9,639',\n",
              " '13,220']"
            ]
          },
          "metadata": {},
          "execution_count": 23
        }
      ]
    },
    {
      "cell_type": "markdown",
      "source": [
        "#1.6b\n",
        "Removing all commas"
      ],
      "metadata": {
        "id": "AI08CiCMUCBe"
      }
    },
    {
      "cell_type": "code",
      "source": [
        "# Remove commas from the elements\n",
        "Sold_Data = [element.replace(',', '') for element in Sold]\n",
        "\n",
        "print(Sold_Data)"
      ],
      "metadata": {
        "colab": {
          "base_uri": "https://localhost:8080/"
        },
        "id": "jZx4cNTNGxBV",
        "outputId": "ed27911b-8c67-4847-8f0d-56d5a1cbdb9f"
      },
      "execution_count": 24,
      "outputs": [
        {
          "output_type": "stream",
          "name": "stdout",
          "text": [
            "['83612', '6152', '83612', '232295', '83612', '232295', '20833', '232295', '20833', '29548', '9639', '50708', '50708', '232295', '29548', '10818', 'GB RAM | 256 GB ROM16.94 cm (6.67 inch) Full HD+ Display64MP + 8MP + 2MP | 20MP Front Camera4500 mAh Lithium-ion Polymer BatteryQualcomm Snapdragon 870 Processor2 Years Brand Warranty₹21999₹3999945% offFree delivery by TodayTop Discount on SaleUpto ₹21100 Off on ExchangeAdd to Comparerealme 10 Pro 5G (Dark Matter 128 GB)4.322542', '22542', '29945', '29945', '22542', '9639', '13220']\n"
          ]
        }
      ]
    },
    {
      "cell_type": "code",
      "source": [
        "Sold_Data"
      ],
      "metadata": {
        "colab": {
          "base_uri": "https://localhost:8080/"
        },
        "id": "GYxpF7ChLMfj",
        "outputId": "652d087b-5c72-4afd-c8f1-36591d77129b"
      },
      "execution_count": 25,
      "outputs": [
        {
          "output_type": "execute_result",
          "data": {
            "text/plain": [
              "['83612',\n",
              " '6152',\n",
              " '83612',\n",
              " '232295',\n",
              " '83612',\n",
              " '232295',\n",
              " '20833',\n",
              " '232295',\n",
              " '20833',\n",
              " '29548',\n",
              " '9639',\n",
              " '50708',\n",
              " '50708',\n",
              " '232295',\n",
              " '29548',\n",
              " '10818',\n",
              " 'GB RAM | 256 GB ROM16.94 cm (6.67 inch) Full HD+ Display64MP + 8MP + 2MP | 20MP Front Camera4500 mAh Lithium-ion Polymer BatteryQualcomm Snapdragon 870 Processor2 Years Brand Warranty₹21999₹3999945% offFree delivery by TodayTop Discount on SaleUpto ₹21100 Off on ExchangeAdd to Comparerealme 10 Pro 5G (Dark Matter 128 GB)4.322542',\n",
              " '22542',\n",
              " '29945',\n",
              " '29945',\n",
              " '22542',\n",
              " '9639',\n",
              " '13220']"
            ]
          },
          "metadata": {},
          "execution_count": 25
        }
      ]
    },
    {
      "cell_type": "markdown",
      "source": [
        "#1.7 Exporting the final CSV"
      ],
      "metadata": {
        "id": "amuEtd-YUWl4"
      }
    },
    {
      "cell_type": "code",
      "source": [
        "import csv"
      ],
      "metadata": {
        "id": "wPSS47dzW2Rk"
      },
      "execution_count": 26,
      "outputs": []
    },
    {
      "cell_type": "code",
      "source": [
        "data = zip(name ,RAM_digit, ROM_digit, Sold_Data, Rating)\n",
        "\n",
        "filename = 'merged_data.csv'\n",
        "\n",
        "with open(filename, 'w', newline='') as csvfile:\n",
        "    writer = csv.writer(csvfile)\n",
        "    writer.writerow(['Name', 'RAM', 'ROM', 'Sold Quantity', 'Rating'])  # Write header row\n",
        "    writer.writerows(data)\n",
        "\n",
        "print(f\"Data has been written to {filename}.\")"
      ],
      "metadata": {
        "colab": {
          "base_uri": "https://localhost:8080/"
        },
        "id": "McCCrC3qLOHD",
        "outputId": "b5595502-5641-4686-88e6-f1c94c43dd1a"
      },
      "execution_count": 27,
      "outputs": [
        {
          "output_type": "stream",
          "name": "stdout",
          "text": [
            "Data has been written to merged_data.csv.\n"
          ]
        }
      ]
    },
    {
      "cell_type": "code",
      "source": [],
      "metadata": {
        "id": "fUsDvJXnCxk0"
      },
      "execution_count": 27,
      "outputs": []
    }
  ]
}